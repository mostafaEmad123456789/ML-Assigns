{
 "cells": [
  {
   "cell_type": "markdown",
   "metadata": {},
   "source": [
    "# Can your predict the wine quality for a factory ? (for educational purpose only)\n",
    "\n",
    "given [this dataset](https://www.kaggle.com/rajyellow46/wine-quality) we want to predict the class of the wine."
   ]
  },
  {
   "cell_type": "code",
   "execution_count": 1,
   "metadata": {},
   "outputs": [],
   "source": [
    "import numpy as np\n",
    "import pandas as pd\n",
    "import matplotlib.pyplot as plt\n",
    "import seaborn as sb\n",
    "from sklearn.model_selection import train_test_split\n",
    "from sklearn.neighbors import KNeighborsClassifier\n",
    "from sklearn.metrics import confusion_matrix\n",
    "from sklearn.svm import SVC\n",
    "from sklearn.svm import LinearSVC\n",
    "from sklearn.linear_model import LogisticRegression\n",
    "from sklearn.preprocessing import LabelEncoder\n",
    "from sklearn.naive_bayes import GaussianNB\n",
    "from sklearn.tree import DecisionTreeClassifier\n",
    "from sklearn.preprocessing import OneHotEncoder\n",
    "from sklearn.preprocessing import StandardScaler\n",
    "%matplotlib inline"
   ]
  },
  {
   "cell_type": "code",
   "execution_count": 2,
   "metadata": {},
   "outputs": [],
   "source": [
    "df= pd.read_csv(\"../datasets/wine-quality/winequalityN.csv\")"
   ]
  },
  {
   "cell_type": "code",
   "execution_count": 3,
   "metadata": {},
   "outputs": [
    {
     "data": {
      "text/html": [
       "<div>\n",
       "<style scoped>\n",
       "    .dataframe tbody tr th:only-of-type {\n",
       "        vertical-align: middle;\n",
       "    }\n",
       "\n",
       "    .dataframe tbody tr th {\n",
       "        vertical-align: top;\n",
       "    }\n",
       "\n",
       "    .dataframe thead th {\n",
       "        text-align: right;\n",
       "    }\n",
       "</style>\n",
       "<table border=\"1\" class=\"dataframe\">\n",
       "  <thead>\n",
       "    <tr style=\"text-align: right;\">\n",
       "      <th></th>\n",
       "      <th>type</th>\n",
       "      <th>fixed acidity</th>\n",
       "      <th>volatile acidity</th>\n",
       "      <th>citric acid</th>\n",
       "      <th>residual sugar</th>\n",
       "      <th>chlorides</th>\n",
       "      <th>free sulfur dioxide</th>\n",
       "      <th>total sulfur dioxide</th>\n",
       "      <th>density</th>\n",
       "      <th>pH</th>\n",
       "      <th>sulphates</th>\n",
       "      <th>alcohol</th>\n",
       "      <th>quality</th>\n",
       "    </tr>\n",
       "  </thead>\n",
       "  <tbody>\n",
       "    <tr>\n",
       "      <th>0</th>\n",
       "      <td>white</td>\n",
       "      <td>7.0</td>\n",
       "      <td>0.27</td>\n",
       "      <td>0.36</td>\n",
       "      <td>20.7</td>\n",
       "      <td>0.045</td>\n",
       "      <td>45.0</td>\n",
       "      <td>170.0</td>\n",
       "      <td>1.0010</td>\n",
       "      <td>3.00</td>\n",
       "      <td>0.45</td>\n",
       "      <td>8.8</td>\n",
       "      <td>6</td>\n",
       "    </tr>\n",
       "    <tr>\n",
       "      <th>1</th>\n",
       "      <td>white</td>\n",
       "      <td>6.3</td>\n",
       "      <td>0.30</td>\n",
       "      <td>0.34</td>\n",
       "      <td>1.6</td>\n",
       "      <td>0.049</td>\n",
       "      <td>14.0</td>\n",
       "      <td>132.0</td>\n",
       "      <td>0.9940</td>\n",
       "      <td>3.30</td>\n",
       "      <td>0.49</td>\n",
       "      <td>9.5</td>\n",
       "      <td>6</td>\n",
       "    </tr>\n",
       "    <tr>\n",
       "      <th>2</th>\n",
       "      <td>white</td>\n",
       "      <td>8.1</td>\n",
       "      <td>0.28</td>\n",
       "      <td>0.40</td>\n",
       "      <td>6.9</td>\n",
       "      <td>0.050</td>\n",
       "      <td>30.0</td>\n",
       "      <td>97.0</td>\n",
       "      <td>0.9951</td>\n",
       "      <td>3.26</td>\n",
       "      <td>0.44</td>\n",
       "      <td>10.1</td>\n",
       "      <td>6</td>\n",
       "    </tr>\n",
       "    <tr>\n",
       "      <th>3</th>\n",
       "      <td>white</td>\n",
       "      <td>7.2</td>\n",
       "      <td>0.23</td>\n",
       "      <td>0.32</td>\n",
       "      <td>8.5</td>\n",
       "      <td>0.058</td>\n",
       "      <td>47.0</td>\n",
       "      <td>186.0</td>\n",
       "      <td>0.9956</td>\n",
       "      <td>3.19</td>\n",
       "      <td>0.40</td>\n",
       "      <td>9.9</td>\n",
       "      <td>6</td>\n",
       "    </tr>\n",
       "    <tr>\n",
       "      <th>4</th>\n",
       "      <td>white</td>\n",
       "      <td>7.2</td>\n",
       "      <td>0.23</td>\n",
       "      <td>0.32</td>\n",
       "      <td>8.5</td>\n",
       "      <td>0.058</td>\n",
       "      <td>47.0</td>\n",
       "      <td>186.0</td>\n",
       "      <td>0.9956</td>\n",
       "      <td>3.19</td>\n",
       "      <td>0.40</td>\n",
       "      <td>9.9</td>\n",
       "      <td>6</td>\n",
       "    </tr>\n",
       "  </tbody>\n",
       "</table>\n",
       "</div>"
      ],
      "text/plain": [
       "    type  fixed acidity  volatile acidity  citric acid  residual sugar  \\\n",
       "0  white            7.0              0.27         0.36            20.7   \n",
       "1  white            6.3              0.30         0.34             1.6   \n",
       "2  white            8.1              0.28         0.40             6.9   \n",
       "3  white            7.2              0.23         0.32             8.5   \n",
       "4  white            7.2              0.23         0.32             8.5   \n",
       "\n",
       "   chlorides  free sulfur dioxide  total sulfur dioxide  density    pH  \\\n",
       "0      0.045                 45.0                 170.0   1.0010  3.00   \n",
       "1      0.049                 14.0                 132.0   0.9940  3.30   \n",
       "2      0.050                 30.0                  97.0   0.9951  3.26   \n",
       "3      0.058                 47.0                 186.0   0.9956  3.19   \n",
       "4      0.058                 47.0                 186.0   0.9956  3.19   \n",
       "\n",
       "   sulphates  alcohol  quality  \n",
       "0       0.45      8.8        6  \n",
       "1       0.49      9.5        6  \n",
       "2       0.44     10.1        6  \n",
       "3       0.40      9.9        6  \n",
       "4       0.40      9.9        6  "
      ]
     },
     "execution_count": 3,
     "metadata": {},
     "output_type": "execute_result"
    }
   ],
   "source": [
    "df.head()"
   ]
  },
  {
   "cell_type": "code",
   "execution_count": 15,
   "metadata": {},
   "outputs": [
    {
     "data": {
      "text/plain": [
       "<matplotlib.axes._subplots.AxesSubplot at 0x17f830ed7f0>"
      ]
     },
     "execution_count": 15,
     "metadata": {},
     "output_type": "execute_result"
    },
    {
     "data": {
      "image/png": "[encoded data removed]",
      "text/plain": [
       "<Figure size 1080x432 with 2 Axes>"
      ]
     },
     "metadata": {},
     "output_type": "display_data"
    }
   ],
   "source": [
    "fig, ax =  plt.subplots(figsize=(15,6))\n",
    "corr = df.corr()\n",
    "sb.heatmap(corr, ax=ax)"
   ]
  },
  {
   "cell_type": "markdown",
   "metadata": {},
   "source": [
    "# i- Data Preparing"
   ]
  },
  {
   "cell_type": "code",
   "execution_count": 34,
   "metadata": {},
   "outputs": [],
   "source": [
    "df = df.dropna()\n",
    "features = df.iloc[:, [3,6,9,10,11]].values\n",
    "goal = df.iloc[:, -1].values\n",
    "scaler = StandardScaler()\n",
    "features = scaler.fit_transform(features)\n",
    "x_train, x_test, y_train, y_test = train_test_split(features, goal, test_size=0.2, random_state=0)"
   ]
  },
  {
   "cell_type": "markdown",
   "metadata": {},
   "source": [
    "---\n",
    "---"
   ]
  },
  {
   "cell_type": "markdown",
   "metadata": {},
   "source": [
    "# ii- The used Classifiers and their score values."
   ]
  },
  {
   "cell_type": "markdown",
   "metadata": {},
   "source": [
    "## KNN"
   ]
  },
  {
   "cell_type": "code",
   "execution_count": 35,
   "metadata": {
    "scrolled": true
   },
   "outputs": [
    {
     "name": "stdout",
     "output_type": "stream",
     "text": [
      "The maximum score = 0.6078886310904872 given by the K = 1\n"
     ]
    }
   ],
   "source": [
    "maxscore = 0\n",
    "maxK = 0\n",
    "\n",
    "for K in [1, 3, 5, 10, 20, 100, 150, len(x_train)]:\n",
    "    knn = KNeighborsClassifier(n_neighbors=K)\n",
    "    knn.fit(x_train, y_train)\n",
    "    y_predict = knn.predict(x_test)\n",
    "    cm = confusion_matrix(y_test, y_predict)\n",
    "    score = knn.score(x_test, y_test)\n",
    "    if score > maxscore:\n",
    "        maxscore=score\n",
    "        maxK = K\n",
    "    \n",
    "print(\"The maximum score = {} given by the K = {}\".format(maxscore, maxK))"
   ]
  },
  {
   "cell_type": "markdown",
   "metadata": {},
   "source": [
    "---\n",
    "---"
   ]
  },
  {
   "cell_type": "markdown",
   "metadata": {},
   "source": [
    "## Linear SVM"
   ]
  },
  {
   "cell_type": "code",
   "execution_count": 36,
   "metadata": {
    "scrolled": true
   },
   "outputs": [
    {
     "name": "stdout",
     "output_type": "stream",
     "text": [
      "   0  1    2    3  4  5\n",
      "0  0  0    5    2  0  0\n",
      "1  0  0   18   21  0  0\n",
      "2  0  0  280  136  0  0\n",
      "3  0  0  216  372  0  0\n",
      "4  0  0   18  198  0  0\n",
      "5  0  0    0   27  0  0\n",
      "Accuracy :  0.504253673627\n"
     ]
    }
   ],
   "source": [
    "svm = SVC(kernel ='linear', random_state = 0)\n",
    "svm.fit(x_train, y_train)\n",
    "y_predict = svm.predict(x_test)\n",
    "cm = confusion_matrix(y_test, y_predict)\n",
    "print(pd.DataFrame(cm))\n",
    "print(\"Accuracy : \", svm.score(x_test, y_test))"
   ]
  },
  {
   "cell_type": "markdown",
   "metadata": {},
   "source": [
    "---\n",
    "---"
   ]
  },
  {
   "cell_type": "markdown",
   "metadata": {},
   "source": [
    "## Gaussian SVM"
   ]
  },
  {
   "cell_type": "code",
   "execution_count": 37,
   "metadata": {
    "scrolled": true
   },
   "outputs": [
    {
     "name": "stdout",
     "output_type": "stream",
     "text": [
      "   0  1    2    3   4  5\n",
      "0  0  0    5    2   0  0\n",
      "1  0  0   21   17   1  0\n",
      "2  0  0  256  159   1  0\n",
      "3  0  0  158  402  28  0\n",
      "4  0  0    7  178  31  0\n",
      "5  0  0    0   20   7  0\n",
      "Accuracy :  0.53286929621\n"
     ]
    }
   ],
   "source": [
    "svm = SVC(kernel ='rbf', random_state = 0)\n",
    "svm.fit(x_train, y_train)\n",
    "y_predict = svm.predict(x_test)\n",
    "cm = confusion_matrix(y_test, y_predict)\n",
    "print(pd.DataFrame(cm))\n",
    "print(\"Accuracy : \", svm.score(x_test, y_test))"
   ]
  },
  {
   "cell_type": "markdown",
   "metadata": {},
   "source": [
    "---\n",
    "---"
   ]
  },
  {
   "cell_type": "markdown",
   "metadata": {},
   "source": [
    "## Poly SVM"
   ]
  },
  {
   "cell_type": "code",
   "execution_count": 38,
   "metadata": {
    "scrolled": true
   },
   "outputs": [
    {
     "name": "stdout",
     "output_type": "stream",
     "text": [
      "   0  1    2    3   4  5\n",
      "0  0  0    5    2   0  0\n",
      "1  0  0   10   29   0  0\n",
      "2  1  0  142  273   0  0\n",
      "3  0  0   91  488   9  0\n",
      "4  0  0    8  195  13  0\n",
      "5  0  0    0   22   5  0\n",
      "Accuracy :  0.497293116783\n"
     ]
    }
   ],
   "source": [
    "svm = SVC(kernel ='poly', random_state = 0)\n",
    "svm.fit(x_train, y_train)\n",
    "y_predict = svm.predict(x_test)\n",
    "cm = confusion_matrix(y_test, y_predict)\n",
    "print(pd.DataFrame(cm))\n",
    "print(\"Accuracy : \", svm.score(x_test, y_test))"
   ]
  },
  {
   "cell_type": "markdown",
   "metadata": {},
   "source": [
    "---\n",
    "---"
   ]
  },
  {
   "cell_type": "markdown",
   "metadata": {},
   "source": [
    "## Logistic Regression"
   ]
  },
  {
   "cell_type": "code",
   "execution_count": 39,
   "metadata": {},
   "outputs": [
    {
     "name": "stdout",
     "output_type": "stream",
     "text": [
      "   0  1    2    3   4  5\n",
      "0  0  0    5    2   0  0\n",
      "1  0  0   16   23   0  0\n",
      "2  0  0  254  161   1  0\n",
      "3  0  0  187  385  16  0\n",
      "4  0  0   17  187  12  0\n",
      "5  0  0    0   24   3  0\n",
      "Accuracy :  0.503480278422\n"
     ]
    }
   ],
   "source": [
    "logistic = LogisticRegression(random_state = 0)\n",
    "logistic.fit(x_train, y_train)\n",
    "y_predict = logistic.predict(x_test)\n",
    "cm = confusion_matrix(y_test, y_predict)\n",
    "print(pd.DataFrame(cm))\n",
    "print(\"Accuracy : \", logistic.score(x_test, y_test))"
   ]
  },
  {
   "cell_type": "markdown",
   "metadata": {},
   "source": [
    "---\n",
    "---"
   ]
  },
  {
   "cell_type": "markdown",
   "metadata": {},
   "source": [
    "## GaussianNB"
   ]
  },
  {
   "cell_type": "code",
   "execution_count": 40,
   "metadata": {
    "scrolled": true
   },
   "outputs": [
    {
     "name": "stdout",
     "output_type": "stream",
     "text": [
      "   0  1    2    3   4  5\n",
      "0  0  0    5    2   0  0\n",
      "1  1  1   18   18   1  0\n",
      "2  2  4  295  110   5  0\n",
      "3  1  3  242  286  56  0\n",
      "4  0  0   21  150  45  0\n",
      "5  1  0    0   16  10  0\n",
      "Accuracy :  0.484918793503\n"
     ]
    }
   ],
   "source": [
    "GNB = GaussianNB()\n",
    "GNB.fit(x_train, y_train)\n",
    "y_predict = GNB.predict(x_test)\n",
    "cm = confusion_matrix(y_test, y_predict)\n",
    "print(pd.DataFrame(cm))\n",
    "print(\"Accuracy : \", GNB.score(x_test, y_test))"
   ]
  },
  {
   "cell_type": "markdown",
   "metadata": {},
   "source": [
    "---\n",
    "---"
   ]
  },
  {
   "cell_type": "markdown",
   "metadata": {},
   "source": [
    "## DecisionTree"
   ]
  },
  {
   "cell_type": "code",
   "execution_count": 41,
   "metadata": {},
   "outputs": [
    {
     "name": "stdout",
     "output_type": "stream",
     "text": [
      "   0   1    2    3    4   5  6\n",
      "0  0   0    4    2    1   0  0\n",
      "1  0   7   18   11    1   2  0\n",
      "2  2   9  273  111   20   1  0\n",
      "3  7  11  130  356   71  12  1\n",
      "4  1   2   15   76  114   6  2\n",
      "5  0   0    0   11    6  10  0\n",
      "6  0   0    0    0    0   0  0\n",
      "Accuracy :  0.587780355762\n"
     ]
    }
   ],
   "source": [
    "DecisionTree = DecisionTreeClassifier(random_state=0)\n",
    "DecisionTree.fit(x_train, y_train)\n",
    "y_predict = DecisionDecisionTree = DecisionTreeClassifier(random_state=0)\n",
    "DecisionTree.fit(x_train, y_train)\n",
    "y_predict = DecisionTree.predict(x_test)\n",
    "cm = confusion_matrix(y_test, y_predict)\n",
    "print(pd.DataFrame(cm))\n",
    "print(\"Accuracy : \", DecisionTree.score(x_test, y_test))"
   ]
  },
  {
   "cell_type": "markdown",
   "metadata": {},
   "source": [
    "---\n",
    "---"
   ]
  },
  {
   "cell_type": "markdown",
   "metadata": {},
   "source": [
    "## Another LinearSVC"
   ]
  },
  {
   "cell_type": "code",
   "execution_count": 42,
   "metadata": {
    "scrolled": true
   },
   "outputs": [
    {
     "name": "stdout",
     "output_type": "stream",
     "text": [
      "   0  1    2    3  4  5\n",
      "0  0  0    5    2  0  0\n",
      "1  0  0   17   22  0  0\n",
      "2  0  0  260  156  0  0\n",
      "3  0  0  200  387  1  0\n",
      "4  0  0   17  196  3  0\n",
      "5  0  0    0   27  0  0\n",
      "Accuracy :  0.502706883217\n"
     ]
    }
   ],
   "source": [
    "svm = LinearSVC(random_state = 0)\n",
    "svm.fit(x_train, y_train)\n",
    "y_predict = svm.predict(x_test)\n",
    "cm = confusion_matrix(y_test, y_predict)\n",
    "print(pd.DataFrame(cm))\n",
    "print(\"Accuracy : \", svm.score(x_test, y_test))"
   ]
  },
  {
   "cell_type": "markdown",
   "metadata": {},
   "source": [
    "---\n",
    "---"
   ]
  }
 ],
 "metadata": {
  "kernelspec": {
   "display_name": "Python 3",
   "language": "python",
   "name": "python3"
  },
  "language_info": {
   "codemirror_mode": {
    "name": "ipython",
    "version": 3
   },
   "file_extension": ".py",
   "mimetype": "text/x-python",
   "name": "python",
   "nbconvert_exporter": "python",
   "pygments_lexer": "ipython3",
   "version": "3.6.5"
  }
 },
 "nbformat": 4,
 "nbformat_minor": 2
}
