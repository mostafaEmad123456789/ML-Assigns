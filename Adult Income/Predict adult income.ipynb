{
 "cells": [
  {
   "cell_type": "markdown",
   "metadata": {},
   "source": [
    "# Predict whether income exceeds $50K/yr\n",
    "\n",
    "use the dataset in [this](https://archive.ics.uci.edu/ml/datasets/Adult) link to predict whether income exceeds $50k/yr"
   ]
  },
  {
   "cell_type": "code",
   "execution_count": 16,
   "metadata": {},
   "outputs": [],
   "source": [
    "import numpy as np\n",
    "import pandas as pd\n",
    "import matplotlib.pyplot as plt\n",
    "from sklearn.tree import DecisionTreeClassifier\n",
    "from sklearn.ensemble import GradientBoostingClassifier\n",
    "from sklearn.ensemble import BaggingClassifier\n",
    "from sklearn.ensemble import RandomForestClassifier\n",
    "%matplotlib inline\n",
    "from sklearn.naive_bayes import GaussianNB\n",
    "from mlxtend.plotting import plot_decision_regions\n",
    "import scipy.cluster.hierarchy as sch\n",
    "from sklearn import datasets\n",
    "from sklearn.neighbors import kneighbors_graph\n",
    "import matplotlib.gridspec as gridspec\n",
    "import itertools\n",
    "from sklearn.preprocessing import StandardScaler\n",
    "from itertools import cycle, islice\n",
    "from sklearn.cluster import KMeans\n",
    "from sklearn.cluster import AgglomerativeClustering\n",
    "from sklearn.ensemble import VotingClassifier\n",
    "import seaborn as sb\n",
    "from sklearn.model_selection import train_test_split\n",
    "from sklearn.neighbors import KNeighborsClassifier\n",
    "from sklearn.metrics import confusion_matrix\n",
    "from sklearn.svm import SVC\n",
    "from sklearn.svm import LinearSVC\n",
    "from sklearn.linear_model import LogisticRegression\n",
    "from sklearn.preprocessing import LabelEncoder\n",
    "from xgboost import XGBClassifier"
   ]
  },
  {
   "cell_type": "code",
   "execution_count": 2,
   "metadata": {},
   "outputs": [],
   "source": [
    "df = pd.read_csv(\"../datasets/adult.csv\")"
   ]
  },
  {
   "cell_type": "code",
   "execution_count": 3,
   "metadata": {
    "scrolled": false
   },
   "outputs": [
    {
     "data": {
      "text/html": [
       "<div>\n",
       "<style scoped>\n",
       "    .dataframe tbody tr th:only-of-type {\n",
       "        vertical-align: middle;\n",
       "    }\n",
       "\n",
       "    .dataframe tbody tr th {\n",
       "        vertical-align: top;\n",
       "    }\n",
       "\n",
       "    .dataframe thead th {\n",
       "        text-align: right;\n",
       "    }\n",
       "</style>\n",
       "<table border=\"1\" class=\"dataframe\">\n",
       "  <thead>\n",
       "    <tr style=\"text-align: right;\">\n",
       "      <th></th>\n",
       "      <th>age</th>\n",
       "      <th>workclass</th>\n",
       "      <th>fnlwgt</th>\n",
       "      <th>education</th>\n",
       "      <th>education-num</th>\n",
       "      <th>marital-status</th>\n",
       "      <th>occupation</th>\n",
       "      <th>relationship</th>\n",
       "      <th>race</th>\n",
       "      <th>sex</th>\n",
       "      <th>capital-gain</th>\n",
       "      <th>capital-loss</th>\n",
       "      <th>hours-per-week</th>\n",
       "      <th>native-country</th>\n",
       "      <th>salary</th>\n",
       "    </tr>\n",
       "  </thead>\n",
       "  <tbody>\n",
       "    <tr>\n",
       "      <th>0</th>\n",
       "      <td>39</td>\n",
       "      <td>State-gov</td>\n",
       "      <td>77516</td>\n",
       "      <td>Bachelors</td>\n",
       "      <td>13</td>\n",
       "      <td>Never-married</td>\n",
       "      <td>Adm-clerical</td>\n",
       "      <td>Not-in-family</td>\n",
       "      <td>White</td>\n",
       "      <td>Male</td>\n",
       "      <td>2174</td>\n",
       "      <td>0</td>\n",
       "      <td>40</td>\n",
       "      <td>United-States</td>\n",
       "      <td>&lt;=50K</td>\n",
       "    </tr>\n",
       "    <tr>\n",
       "      <th>1</th>\n",
       "      <td>50</td>\n",
       "      <td>Self-emp-not-inc</td>\n",
       "      <td>83311</td>\n",
       "      <td>Bachelors</td>\n",
       "      <td>13</td>\n",
       "      <td>Married-civ-spouse</td>\n",
       "      <td>Exec-managerial</td>\n",
       "      <td>Husband</td>\n",
       "      <td>White</td>\n",
       "      <td>Male</td>\n",
       "      <td>0</td>\n",
       "      <td>0</td>\n",
       "      <td>13</td>\n",
       "      <td>United-States</td>\n",
       "      <td>&lt;=50K</td>\n",
       "    </tr>\n",
       "    <tr>\n",
       "      <th>2</th>\n",
       "      <td>38</td>\n",
       "      <td>Private</td>\n",
       "      <td>215646</td>\n",
       "      <td>HS-grad</td>\n",
       "      <td>9</td>\n",
       "      <td>Divorced</td>\n",
       "      <td>Handlers-cleaners</td>\n",
       "      <td>Not-in-family</td>\n",
       "      <td>White</td>\n",
       "      <td>Male</td>\n",
       "      <td>0</td>\n",
       "      <td>0</td>\n",
       "      <td>40</td>\n",
       "      <td>United-States</td>\n",
       "      <td>&lt;=50K</td>\n",
       "    </tr>\n",
       "    <tr>\n",
       "      <th>3</th>\n",
       "      <td>53</td>\n",
       "      <td>Private</td>\n",
       "      <td>234721</td>\n",
       "      <td>11th</td>\n",
       "      <td>7</td>\n",
       "      <td>Married-civ-spouse</td>\n",
       "      <td>Handlers-cleaners</td>\n",
       "      <td>Husband</td>\n",
       "      <td>Black</td>\n",
       "      <td>Male</td>\n",
       "      <td>0</td>\n",
       "      <td>0</td>\n",
       "      <td>40</td>\n",
       "      <td>United-States</td>\n",
       "      <td>&lt;=50K</td>\n",
       "    </tr>\n",
       "    <tr>\n",
       "      <th>4</th>\n",
       "      <td>28</td>\n",
       "      <td>Private</td>\n",
       "      <td>338409</td>\n",
       "      <td>Bachelors</td>\n",
       "      <td>13</td>\n",
       "      <td>Married-civ-spouse</td>\n",
       "      <td>Prof-specialty</td>\n",
       "      <td>Wife</td>\n",
       "      <td>Black</td>\n",
       "      <td>Female</td>\n",
       "      <td>0</td>\n",
       "      <td>0</td>\n",
       "      <td>40</td>\n",
       "      <td>Cuba</td>\n",
       "      <td>&lt;=50K</td>\n",
       "    </tr>\n",
       "  </tbody>\n",
       "</table>\n",
       "</div>"
      ],
      "text/plain": [
       "   age         workclass  fnlwgt  education  education-num  \\\n",
       "0   39         State-gov   77516  Bachelors             13   \n",
       "1   50  Self-emp-not-inc   83311  Bachelors             13   \n",
       "2   38           Private  215646    HS-grad              9   \n",
       "3   53           Private  234721       11th              7   \n",
       "4   28           Private  338409  Bachelors             13   \n",
       "\n",
       "       marital-status         occupation   relationship   race     sex  \\\n",
       "0       Never-married       Adm-clerical  Not-in-family  White    Male   \n",
       "1  Married-civ-spouse    Exec-managerial        Husband  White    Male   \n",
       "2            Divorced  Handlers-cleaners  Not-in-family  White    Male   \n",
       "3  Married-civ-spouse  Handlers-cleaners        Husband  Black    Male   \n",
       "4  Married-civ-spouse     Prof-specialty           Wife  Black  Female   \n",
       "\n",
       "   capital-gain  capital-loss  hours-per-week native-country salary  \n",
       "0          2174             0              40  United-States  <=50K  \n",
       "1             0             0              13  United-States  <=50K  \n",
       "2             0             0              40  United-States  <=50K  \n",
       "3             0             0              40  United-States  <=50K  \n",
       "4             0             0              40           Cuba  <=50K  "
      ]
     },
     "execution_count": 3,
     "metadata": {},
     "output_type": "execute_result"
    }
   ],
   "source": [
    "df.head()"
   ]
  },
  {
   "cell_type": "code",
   "execution_count": 4,
   "metadata": {},
   "outputs": [],
   "source": [
    "features = df.iloc[:, [0, 1, 3, 4, 5, 6, 7, 8, 9, 10, 11]].values\n",
    "goal = df.iloc[:, -1].values\n",
    "encoder = LabelEncoder()\n",
    "features[:, 1] = encoder.fit_transform(features[:, 1])\n",
    "features[:, 2] = encoder.fit_transform(features[:, 2])\n",
    "features[:, 4] = encoder.fit_transform(features[:, 4])\n",
    "features[:, 5] = encoder.fit_transform(features[:, 5])\n",
    "features[:, 6] = encoder.fit_transform(features[:, 6])\n",
    "features[:, 7] = encoder.fit_transform(features[:, 7])\n",
    "features[:, 8] = encoder.fit_transform(features[:, 8])\n",
    "goal = encoder.fit_transform(goal)\n",
    "x_train, x_test, y_train, y_test = train_test_split(features, goal, test_size=0.2, random_state=0)"
   ]
  },
  {
   "cell_type": "markdown",
   "metadata": {},
   "source": [
    "## Votting"
   ]
  },
  {
   "cell_type": "code",
   "execution_count": 7,
   "metadata": {
    "scrolled": true
   },
   "outputs": [
    {
     "name": "stdout",
     "output_type": "stream",
     "text": [
      "      0    1\n",
      "0  4661  257\n",
      "1   911  684\n",
      "model Logistic Regression with acu 0.82\n",
      "      0    1\n",
      "0  4817  101\n",
      "1  1210  385\n",
      "model SVC with acu 0.80\n",
      "      0    1\n",
      "0  4689  229\n",
      "1  1092  503\n",
      "model naive Bayes with acu 0.80\n",
      "      0     1\n",
      "0  4466   452\n",
      "1   566  1029\n",
      "model knn with acu 0.84\n",
      "      0    1\n",
      "0  4370  548\n",
      "1   650  945\n",
      "model DecisionTree with acu 0.82\n",
      "      0    1\n",
      "0  4776  142\n",
      "1   933  662\n",
      "model Ensemble with acu 0.83\n"
     ]
    }
   ],
   "source": [
    "logistic = LogisticRegression(random_state=0)\n",
    "svm = LinearSVC(random_state=0)\n",
    "gnb = GaussianNB()\n",
    "knn = KNeighborsClassifier(n_neighbors=5)\n",
    "DecisionTree = DecisionTreeClassifier(random_state=0)\n",
    "rbf = SVC(kernel='rbf', probability=True)\n",
    "poly = SVC(kernel='poly', probability=True)\n",
    "vote = VotingClassifier(estimators=[('lr', logistic), ('svc', svm), ('gnb', gnb), ('knn', knn), ('DecisionTree', DecisionTree)], voting='hard')\n",
    "for clf, lab in zip([logistic, svm, gnb, knn, DecisionTree, vote], ['Logistic Regression', 'SVC', 'naive Bayes','knn', 'DecisionTree', 'Ensemble']):\n",
    "    clf.fit(x_train, y_train)\n",
    "    y_predict = clf.predict(x_test)\n",
    "    cm = confusion_matrix(y_test, y_predict)\n",
    "    print(pd.DataFrame(cm))\n",
    "    print(\"model {} with acu {:.2f}\".format(lab, clf.score(x_test, y_test)))"
   ]
  },
  {
   "cell_type": "markdown",
   "metadata": {},
   "source": [
    "## Bagging"
   ]
  },
  {
   "cell_type": "code",
   "execution_count": 8,
   "metadata": {},
   "outputs": [
    {
     "name": "stdout",
     "output_type": "stream",
     "text": [
      "      0    1\n",
      "0  4661  257\n",
      "1   911  684\n",
      "model KNN with acu 0.82\n",
      "      0    1\n",
      "0  4664  254\n",
      "1   923  672\n",
      "model Bagging with acu 0.82\n"
     ]
    }
   ],
   "source": [
    "bagging = BaggingClassifier(LogisticRegression(random_state=0))\n",
    "knn = LogisticRegression(random_state=0)\n",
    "for clf, lab in zip([knn, bagging], ['KNN', 'Bagging']):\n",
    "    clf.fit(x_train, y_train)\n",
    "    y_predict = clf.predict(x_test)\n",
    "    cm = confusion_matrix(y_test, y_predict)\n",
    "    print(pd.DataFrame(cm))\n",
    "    print(\"model {} with acu {:.2f}\".format(lab, clf.score(x_test, y_test)))"
   ]
  },
  {
   "cell_type": "markdown",
   "metadata": {},
   "source": [
    "## Random Forest"
   ]
  },
  {
   "cell_type": "code",
   "execution_count": 11,
   "metadata": {},
   "outputs": [
    {
     "name": "stdout",
     "output_type": "stream",
     "text": [
      "      0    1\n",
      "0  4370  548\n",
      "1   650  945\n",
      "model tree with acu 0.82\n",
      "      0    1\n",
      "0  4476  442\n",
      "1   617  978\n",
      "model Forest with acu 0.84\n"
     ]
    }
   ],
   "source": [
    "forest = RandomForestClassifier(n_estimators=500, n_jobs=-1, random_state=0)\n",
    "tree = DecisionTreeClassifier(random_state=0)\n",
    "for clf, lab in zip([tree, forest], ['tree', 'Forest']):\n",
    "    clf.fit(x_train, y_train)\n",
    "    y_predict = clf.predict(x_test)\n",
    "    cm = confusion_matrix(y_test, y_predict)\n",
    "    print(pd.DataFrame(cm))\n",
    "    print(\"model {} with acu {:.2f}\".format(lab, clf.score(x_test, y_test)))"
   ]
  },
  {
   "cell_type": "markdown",
   "metadata": {},
   "source": [
    "## Boosting"
   ]
  },
  {
   "cell_type": "code",
   "execution_count": 15,
   "metadata": {},
   "outputs": [
    {
     "name": "stdout",
     "output_type": "stream",
     "text": [
      "      0    1\n",
      "0  4661  257\n",
      "1   911  684\n",
      "model Logistic Regression with acu 0.82\n",
      "      0    1\n",
      "0  4817  101\n",
      "1  1210  385\n",
      "model SVC with acu 0.80\n",
      "      0    1\n",
      "0  4689  229\n",
      "1  1092  503\n",
      "model naive Bayes with acu 0.80\n",
      "      0     1\n",
      "0  4592   326\n",
      "1   590  1005\n",
      "model Gboost with acu 0.86\n"
     ]
    }
   ],
   "source": [
    "clf1 = LogisticRegression(random_state=0)\n",
    "clf2 = LinearSVC(random_state=0)\n",
    "clf3 = GaussianNB()\n",
    "eclf = GradientBoostingClassifier(n_estimators=100, learning_rate=1.0, max_depth=1, random_state=0)\n",
    "\n",
    "for clf, lab in zip([clf1, clf2, clf3, eclf], ['Logistic Regression', 'SVC', 'naive Bayes', 'Gboost']):\n",
    "    clf.fit(x_train, y_train)\n",
    "    y_predict = clf.predict(x_test)\n",
    "    cm = confusion_matrix(y_test, y_predict)\n",
    "    print(pd.DataFrame(cm))\n",
    "    print(\"model {} with acu {:.2f}\".format(lab, clf.score(x_test, y_test)))"
   ]
  },
  {
   "cell_type": "code",
   "execution_count": 20,
   "metadata": {},
   "outputs": [
    {
     "name": "stdout",
     "output_type": "stream",
     "text": [
      "      0     1\n",
      "0  4592   326\n",
      "1   590  1005\n",
      "model xgb with acu 0.86\n"
     ]
    }
   ],
   "source": [
    "xgb_clf = XGBClassifier()\n",
    "xgb_clf.fit(x_train, y_train)\n",
    "y_predict = clf.predict(x_test)\n",
    "cm = confusion_matrix(y_test, y_predict)\n",
    "print(pd.DataFrame(cm))\n",
    "print(\"model {} with acu {:.2f}\".format('xgb', clf.score(x_test, y_test)))"
   ]
  },
  {
   "cell_type": "code",
   "execution_count": null,
   "metadata": {},
   "outputs": [],
   "source": []
  }
 ],
 "metadata": {
  "kernelspec": {
   "display_name": "Python 3",
   "language": "python",
   "name": "python3"
  },
  "language_info": {
   "codemirror_mode": {
    "name": "ipython",
    "version": 3
   },
   "file_extension": ".py",
   "mimetype": "text/x-python",
   "name": "python",
   "nbconvert_exporter": "python",
   "pygments_lexer": "ipython3",
   "version": "3.6.5"
  }
 },
 "nbformat": 4,
 "nbformat_minor": 2
}
