{
 "cells": [
  {
   "cell_type": "markdown",
   "metadata": {},
   "source": [
    "# Automate the model selection problem\n",
    "\n",
    "build a notebook that takes the data, perform the preprocessing, evaluation and choose the best model from multiple models.\n",
    "\n",
    "it would be great if you save the model to a pickle file at the end."
   ]
  },
  {
   "cell_type": "code",
   "execution_count": 1,
   "metadata": {},
   "outputs": [],
   "source": [
    "import pandas as pd\n",
    "from sklearn.pipeline import Pipeline\n",
    "from sklearn.svm import SVC\n",
    "from sklearn.svm import LinearSVC\n",
    "from sklearn.linear_model import LogisticRegression\n",
    "from sklearn.preprocessing import StandardScaler\n",
    "from sklearn.model_selection import train_test_split\n",
    "from sklearn.decomposition import PCA\n",
    "from sklearn.metrics import classification_report\n",
    "from sklearn.model_selection import cross_val_score\n",
    "from sklearn.neighbors import KNeighborsClassifier\n",
    "from sklearn.model_selection import GridSearchCV\n",
    "from sklearn.preprocessing import LabelEncoder\n",
    "from sklearn.externals import joblib\n",
    "import os\n",
    "from sklearn.model_selection import cross_val_score"
   ]
  },
  {
   "cell_type": "code",
   "execution_count": 2,
   "metadata": {},
   "outputs": [],
   "source": [
    "PATH = \"../datasets/\"\n",
    "dataset = \"Social_Network_Ads.csv\"\n",
    "target = \"Purchased\"\n",
    "df = pd.read_csv(PATH+dataset)\n",
    "y_col = target"
   ]
  },
  {
   "cell_type": "code",
   "execution_count": 3,
   "metadata": {},
   "outputs": [
    {
     "data": {
      "text/html": [
       "<div>\n",
       "<style scoped>\n",
       "    .dataframe tbody tr th:only-of-type {\n",
       "        vertical-align: middle;\n",
       "    }\n",
       "\n",
       "    .dataframe tbody tr th {\n",
       "        vertical-align: top;\n",
       "    }\n",
       "\n",
       "    .dataframe thead th {\n",
       "        text-align: right;\n",
       "    }\n",
       "</style>\n",
       "<table border=\"1\" class=\"dataframe\">\n",
       "  <thead>\n",
       "    <tr style=\"text-align: right;\">\n",
       "      <th></th>\n",
       "      <th>User ID</th>\n",
       "      <th>Gender</th>\n",
       "      <th>Age</th>\n",
       "      <th>EstimatedSalary</th>\n",
       "      <th>Purchased</th>\n",
       "    </tr>\n",
       "  </thead>\n",
       "  <tbody>\n",
       "    <tr>\n",
       "      <th>0</th>\n",
       "      <td>15624510</td>\n",
       "      <td>Male</td>\n",
       "      <td>19.0</td>\n",
       "      <td>19000.0</td>\n",
       "      <td>0</td>\n",
       "    </tr>\n",
       "    <tr>\n",
       "      <th>1</th>\n",
       "      <td>15810944</td>\n",
       "      <td>Male</td>\n",
       "      <td>35.0</td>\n",
       "      <td>20000.0</td>\n",
       "      <td>0</td>\n",
       "    </tr>\n",
       "    <tr>\n",
       "      <th>2</th>\n",
       "      <td>15668575</td>\n",
       "      <td>Female</td>\n",
       "      <td>26.0</td>\n",
       "      <td>43000.0</td>\n",
       "      <td>0</td>\n",
       "    </tr>\n",
       "    <tr>\n",
       "      <th>3</th>\n",
       "      <td>15603246</td>\n",
       "      <td>Female</td>\n",
       "      <td>27.0</td>\n",
       "      <td>57000.0</td>\n",
       "      <td>0</td>\n",
       "    </tr>\n",
       "    <tr>\n",
       "      <th>4</th>\n",
       "      <td>15804002</td>\n",
       "      <td>Male</td>\n",
       "      <td>19.0</td>\n",
       "      <td>76000.0</td>\n",
       "      <td>0</td>\n",
       "    </tr>\n",
       "  </tbody>\n",
       "</table>\n",
       "</div>"
      ],
      "text/plain": [
       "    User ID  Gender   Age  EstimatedSalary  Purchased\n",
       "0  15624510    Male  19.0          19000.0          0\n",
       "1  15810944    Male  35.0          20000.0          0\n",
       "2  15668575  Female  26.0          43000.0          0\n",
       "3  15603246  Female  27.0          57000.0          0\n",
       "4  15804002    Male  19.0          76000.0          0"
      ]
     },
     "execution_count": 3,
     "metadata": {},
     "output_type": "execute_result"
    }
   ],
   "source": [
    "df.head()"
   ]
  },
  {
   "cell_type": "markdown",
   "metadata": {},
   "source": [
    "## Preparing the data:"
   ]
  },
  {
   "cell_type": "code",
   "execution_count": 4,
   "metadata": {},
   "outputs": [],
   "source": [
    "features = df.drop(y_col, axis=1)\n",
    "goal = df[ y_col]\n",
    "\n",
    "encoder = LabelEncoder()\n",
    "for x in features:\n",
    "    if features[x].dtype == object:\n",
    "        features[x] = encoder.fit_transform(features[x])\n",
    "\n",
    "features = features.values\n",
    "goal = goal.values\n",
    "\n",
    "pca = PCA(n_components=3)\n",
    "pca.fit(features)\n",
    "features = pca.transform(features)\n",
    "\n",
    "scaler = StandardScaler()\n",
    "features = scaler.fit_transform(features)\n",
    "\n",
    "x_train, x_test, y_train, y_test = train_test_split(features, goal, test_size = 0.2, random_state = 0)"
   ]
  },
  {
   "cell_type": "markdown",
   "metadata": {},
   "source": [
    "## Creating the classifiers:"
   ]
  },
  {
   "cell_type": "code",
   "execution_count": 5,
   "metadata": {},
   "outputs": [],
   "source": [
    "svm = SVC()\n",
    "knn = KNeighborsClassifier()\n",
    "logistic = LogisticRegression()"
   ]
  },
  {
   "cell_type": "markdown",
   "metadata": {},
   "source": [
    "## Train the classifiers and search for the best instance in each classifier and calculate their score:"
   ]
  },
  {
   "cell_type": "code",
   "execution_count": 6,
   "metadata": {},
   "outputs": [
    {
     "name": "stdout",
     "output_type": "stream",
     "text": [
      "svm best accuracy is :0.9\n",
      "svm best params is :{'C': 1, 'kernel': 'rbf'}\n",
      "----------------------------------------------------------------------\n",
      "knn best accuracy is :0.89375\n",
      "knn best params is :{'n_neighbors': 10}\n",
      "----------------------------------------------------------------------\n",
      "logistic best accuracy is :0.825\n",
      "logistic best params is :{'random_state': 0}\n",
      "----------------------------------------------------------------------\n"
     ]
    }
   ],
   "source": [
    "svmParameters = [{'C': [1, 10, 100, 1000], 'kernel': ['linear']},\n",
    "              {'C': [1, 10, 100, 1000], 'kernel': ['rbf']}]\n",
    "\n",
    "knnParameters = [{'n_neighbors': [1, 10, 100, 287]},\n",
    "              {'n_neighbors': [2, 20, 200, 287]},\n",
    "             {'n_neighbors': [3, 30, 150, 287]}]\n",
    "\n",
    "logisticParameters = [{'random_state': [0]}]\n",
    "\n",
    "classifiers = {\"svm\": svm, \"knn\": knn, \"logistic\": logistic}\n",
    "\n",
    "allParameters = [svmParameters, knnParameters, logisticParameters]\n",
    "\n",
    "clfInfo = {}\n",
    "\n",
    "for classifier, param, name in zip(classifiers.values(), allParameters, classifiers.keys()):\n",
    "    grid_search = GridSearchCV(estimator = classifier, param_grid = param, cv = 10, n_jobs = -1)\n",
    "    grid_search = grid_search.fit(x_train, y_train)\n",
    "    print(\"{} best accuracy is :{}\".format(name, grid_search.best_score_))\n",
    "    print(\"{} best params is :{}\".format(name, grid_search.best_params_))\n",
    "    print(\"----------------------------------------------------------------------\")\n",
    "    clfInfo[name] = {\"score\": grid_search.best_score_, \"params\": grid_search.best_params_}"
   ]
  },
  {
   "cell_type": "markdown",
   "metadata": {},
   "source": [
    "## Find the best classifier:"
   ]
  },
  {
   "cell_type": "code",
   "execution_count": 7,
   "metadata": {},
   "outputs": [
    {
     "name": "stdout",
     "output_type": "stream",
     "text": [
      "The best Classifier is : svm with score 0.9 and best combination of parameters : {'C': 1, 'kernel': 'rbf'}\n"
     ]
    }
   ],
   "source": [
    "score = 0\n",
    "clf = None\n",
    "param = None\n",
    "for classifier in clfInfo:\n",
    "    if clfInfo[classifier][\"score\"] > score:\n",
    "        score = clfInfo[classifier][\"score\"]\n",
    "        clf = classifier\n",
    "        param = clfInfo[classifier][\"params\"]\n",
    "        \n",
    "print(\"The best Classifier is : {} with score {} and best combination of parameters : {}\".format(clf, score, param))\n",
    "\n",
    "clf = classifiers[clf]"
   ]
  },
  {
   "cell_type": "markdown",
   "metadata": {},
   "source": [
    "## Setting the best parameters found for the best found classifier:"
   ]
  },
  {
   "cell_type": "code",
   "execution_count": 8,
   "metadata": {},
   "outputs": [],
   "source": [
    "params = param\n",
    "names = params.keys()\n",
    "values = params.values()\n",
    "\n",
    "for name, value in zip(names, values):\n",
    "    setattr(clf, name, value)\n"
   ]
  },
  {
   "cell_type": "markdown",
   "metadata": {},
   "source": [
    "## Fitting and Testing the chosen Classifier:"
   ]
  },
  {
   "cell_type": "code",
   "execution_count": 9,
   "metadata": {},
   "outputs": [
    {
     "name": "stdout",
     "output_type": "stream",
     "text": [
      "mean of acc: 0.900177174976\n",
      "Standard diviation of acc: 0.0476700852479\n",
      "model acc : 0.90 (+/- 0.05)%\n"
     ]
    }
   ],
   "source": [
    "clf.fit(x_train, y_train)\n",
    "clf.predict(x_test)\n",
    "clf.score(x_test, y_test)\n",
    "accuracies = cross_val_score(estimator = clf, X = x_train, y = y_train, cv = 10)\n",
    "print(\"mean of acc:\", accuracies.mean())\n",
    "print(\"Standard diviation of acc:\", accuracies.std())\n",
    "print(\"model acc : {:.2f} (+/- {:.2f})%\".format(accuracies.mean(), accuracies.std()))"
   ]
  },
  {
   "cell_type": "markdown",
   "metadata": {},
   "source": [
    "## Generate Pickle Files:"
   ]
  },
  {
   "cell_type": "code",
   "execution_count": 10,
   "metadata": {
    "scrolled": true
   },
   "outputs": [
    {
     "data": {
      "text/plain": [
       "['F:\\\\Work\\\\Python Machine Learning\\\\CLS-Python\\\\CLS-Python\\\\Machine_learning\\\\Session_5\\\\assigns\\\\pca.pkl']"
      ]
     },
     "execution_count": 10,
     "metadata": {},
     "output_type": "execute_result"
    }
   ],
   "source": [
    "RES_DIR = os.path.dirname(os.path.abspath(__name__))\n",
    "DATA_DIR = os.path.join(RES_DIR, dataset)\n",
    "PICKLE_DIR = os.path.join(RES_DIR, 'model.pkl')\n",
    "SCALER_DIR = os.path.join(RES_DIR, 'scale.pkl')\n",
    "LABEL_DIR = os.path.join(RES_DIR, 'label.pkl')\n",
    "PCA_DIR = os.path.join(RES_DIR, 'pca.pkl')\n",
    "\n",
    "joblib.dump(clf, PICKLE_DIR)\n",
    "joblib.dump(scaler, SCALER_DIR)\n",
    "joblib.dump(encoder, LABEL_DIR)\n",
    "joblib.dump(pca, PCA_DIR)"
   ]
  },
  {
   "cell_type": "markdown",
   "metadata": {},
   "source": [
    "## Running the App:"
   ]
  },
  {
   "cell_type": "code",
   "execution_count": 11,
   "metadata": {},
   "outputs": [
    {
     "name": "stdout",
     "output_type": "stream",
     "text": [
      "please enter: id, gender, age, salary:1, Male, 43, 50000\n",
      "[[ -218.92380274    18.10617419  4828.60481471]]\n",
      "the prediction is : Will Purchase\n",
      "please enter: id, gender, age, salary:t\n",
      "2-  invalid literal for int() with base 10: 't'\n",
      "thanks\n"
     ]
    }
   ],
   "source": [
    "RES_DIR = os.path.dirname(os.path.abspath(__name__))\n",
    "PICKLE_DIR = os.path.join(RES_DIR, 'model.pkl')\n",
    "SCALER_DIR = os.path.join(RES_DIR, 'scale.pkl')\n",
    "LABEL_DIR = os.path.join(RES_DIR, 'label.pkl')\n",
    "PCA_DIR = os.path.join(RES_DIR, 'pca.pkl')\n",
    "\n",
    "clf = joblib.load(PICKLE_DIR)\n",
    "scaler = joblib.load(SCALER_DIR)\n",
    "encoder = joblib.load(LABEL_DIR)\n",
    "pca = joblib.load(PCA_DIR)\n",
    "\n",
    "def preprocess(gender, age, salary, id1):\n",
    "    \n",
    "    try:\n",
    "        gender = encoder.transform([gender])[0]\n",
    "        scaled = pca.transform([[gender, age, salary, id1]])[0]\n",
    "        scaled = [scaler.transform([scaled])][0]\n",
    "        \n",
    "    except Exception as e:\n",
    "        print(\"1- \",str(e.with_traceback()))\n",
    "\n",
    "    return scaled\n",
    "\n",
    "\n",
    "while True:\n",
    "    values = input(\"please enter: id, gender, age, salary:\").split(', ')\n",
    "    try:\n",
    "        values = [int(i) if index != 1 else i for index, i in enumerate(values)]\n",
    "        feature_vector = preprocess(values[1], values[2], values[3], values[0])\n",
    "        print(feature_vector)\n",
    "        predict = clf.predict(feature_vector)\n",
    "        prediction = \"\"\n",
    "        if predict[0] == 0:\n",
    "            prediction = \"Will Not Purchase\"\n",
    "        elif predict[0] == 1:\n",
    "            prediction = \"Will Purchase\"\n",
    "        print(\"the prediction is : {}\".format(prediction))\n",
    "    except Exception as e:\n",
    "        print(\"2- \", str(e))\n",
    "        break\n",
    "print(\"thanks\")\n"
   ]
  }
 ],
 "metadata": {
  "kernelspec": {
   "display_name": "Python 3",
   "language": "python",
   "name": "python3"
  },
  "language_info": {
   "codemirror_mode": {
    "name": "ipython",
    "version": 3
   },
   "file_extension": ".py",
   "mimetype": "text/x-python",
   "name": "python",
   "nbconvert_exporter": "python",
   "pygments_lexer": "ipython3",
   "version": "3.6.5"
  }
 },
 "nbformat": 4,
 "nbformat_minor": 2
}
